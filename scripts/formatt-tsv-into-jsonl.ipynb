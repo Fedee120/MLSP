{
 "cells": [
  {
   "cell_type": "code",
   "execution_count": 8,
   "id": "abe42cc7",
   "metadata": {},
   "outputs": [
    {
     "name": "stdout",
     "output_type": "stream",
     "text": [
      "File converted successfully to /home/spoturno/Coding/MLSP/scripts/converted_data.jsonl\n"
     ]
    }
   ],
   "source": [
    "import json\n",
    "\n",
    "# Adjust these paths to where you want to read the input file from and write the output file to on your computer\n",
    "input_file_path = '/home/spoturno/Downloads/lcp_single_train.tsv'\n",
    "output_file_path = '/home/spoturno/Coding/MLSP/scripts/converted_data.jsonl'\n",
    "\n",
    "# Open the TSV file and create the JSONL file\n",
    "with open(input_file_path, 'r', encoding='utf-8') as infile, open(output_file_path, 'w', encoding='utf-8') as outfile:\n",
    "    next(infile)\n",
    "    for line in infile:\n",
    "        parts = line.strip().split('\\t')\n",
    "        # Ensure the line has at least the expected number of parts (e.g., 5 parts based on your example)\n",
    "        if len(parts) >= 5:\n",
    "            # Assuming the sentence is the third part, the token is the fourth, and complexity is the last\n",
    "            sentence, token, complexity = parts[2], parts[3], parts[-1]\n",
    "            f_complexity = float(complexity)\n",
    "            data = {\n",
    "                \"sentence\": sentence,\n",
    "                \"token\": token,\n",
    "                \"complexity\": f_complexity  # Convert complexity to float\n",
    "            }\n",
    "            json_line = json.dumps(data)\n",
    "            outfile.write(json_line + '\\n')\n",
    "        else:\n",
    "            print(f\"Skipping a line: {line}\")\n",
    "\n",
    "print(f'File converted successfully to {output_file_path}')"
   ]
  },
  {
   "cell_type": "code",
   "execution_count": 1,
   "id": "98dca478",
   "metadata": {},
   "outputs": [
    {
     "name": "stdout",
     "output_type": "stream",
     "text": [
      "Training and evaluation files created successfully\n"
     ]
    }
   ],
   "source": [
    "import json\n",
    "import random\n",
    "\n",
    "# Paths for the input and output files\n",
    "input_file_path = '/home/spoturno/Downloads/lcp_single_train.tsv'\n",
    "train_output_file_path = '/home/spoturno/Coding/MLSP/scripts/train_converted_data.jsonl'\n",
    "eval_output_file_path = '/home/spoturno/Coding/MLSP/scripts/eval_converted_data.jsonl'\n",
    "\n",
    "# Read all lines from the input file\n",
    "with open(input_file_path, 'r', encoding='utf-8') as infile:\n",
    "    next(infile)  # Skip the header line\n",
    "    lines = [line for line in infile]\n",
    "\n",
    "# Shuffle the lines to ensure random distribution\n",
    "random.shuffle(lines)\n",
    "\n",
    "# Calculate the split index\n",
    "split_index = int(len(lines) * 0.8)\n",
    "\n",
    "# Split the lines into training and evaluation sets\n",
    "train_lines = lines[:split_index]\n",
    "eval_lines = lines[split_index:]\n",
    "\n",
    "# Function to process lines and write to a file\n",
    "def process_lines(lines, output_file_path):\n",
    "    with open(output_file_path, 'w', encoding='utf-8') as outfile:\n",
    "        for line in lines:\n",
    "            parts = line.strip().split('\\t')\n",
    "            if len(parts) >= 5:\n",
    "                sentence, token, complexity = parts[2], parts[3], parts[-1]\n",
    "                f_complexity = float(complexity)\n",
    "                data = {\n",
    "                    \"sentence\": sentence,\n",
    "                    \"token\": token,\n",
    "                    \"complexity\": f_complexity\n",
    "                }\n",
    "                json_line = json.dumps(data)\n",
    "                outfile.write(json_line + '\\n')\n",
    "            else:\n",
    "                print(f\"Skipping a line: {line}\")\n",
    "\n",
    "# Process and write the training and evaluation data\n",
    "process_lines(train_lines, train_output_file_path)\n",
    "process_lines(eval_lines, eval_output_file_path)\n",
    "\n",
    "print(f'Training and evaluation files created successfully')"
   ]
  },
  {
   "cell_type": "code",
   "execution_count": null,
   "id": "a157ebe1",
   "metadata": {},
   "outputs": [],
   "source": []
  }
 ],
 "metadata": {
  "kernelspec": {
   "display_name": "Python 3 (ipykernel)",
   "language": "python",
   "name": "python3"
  },
  "language_info": {
   "codemirror_mode": {
    "name": "ipython",
    "version": 3
   },
   "file_extension": ".py",
   "mimetype": "text/x-python",
   "name": "python",
   "nbconvert_exporter": "python",
   "pygments_lexer": "ipython3",
   "version": "3.10.12"
  }
 },
 "nbformat": 4,
 "nbformat_minor": 5
}
