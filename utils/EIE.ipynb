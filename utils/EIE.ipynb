{
 "cells": [
  {
   "cell_type": "code",
   "execution_count": 2,
   "metadata": {},
   "outputs": [],
   "source": [
    "LLAMA = \"llama2-70b-4096\"\n",
    "GEMMA = \"gemma-7b-it\"\n",
    "MIXTRAL = \"mixtral-8x7b-32768\"\n",
    "\n",
    "oracion = \"El susurro del viento me transportó a un estado de serenidad profunda que no había experimentado antes.\"\n",
    "palabra = \"profunda\""
   ]
  },
  {
   "cell_type": "code",
   "execution_count": 38,
   "metadata": {},
   "outputs": [
    {
     "name": "stdout",
     "output_type": "stream",
     "text": [
      "##### gemma-7b-it #####\n",
      "{\n",
      "  \"candidatos\": [\"encantador\", \"fascinante\", \"sobrenatural\", \"misterioso\", \"maravilloso\"]\n",
      "}\n"
     ]
    },
    {
     "data": {
      "text/plain": [
       "{'candidatos': ['encantador',\n",
       "  'fascinante',\n",
       "  'sobrenatural',\n",
       "  'misterioso',\n",
       "  'maravilloso',\n",
       "  'profunda']}"
      ]
     },
     "execution_count": 38,
     "metadata": {},
     "output_type": "execute_result"
    }
   ],
   "source": [
    "from groq import Groq\n",
    "import json\n",
    "\n",
    "def get_groq_simplifications(model: str, oracion: str, palabra: str):\n",
    "    client = Groq(\n",
    "        api_key=\"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\",\n",
    "    )\n",
    "\n",
    "    oracion_ejemplo = \"El resplandeciente sol iluminaba el paisaje selvático, creando un efecto casi mágico en la vegetación exuberante que se extendía a lo lejos.\"\n",
    "    palabra_ejemplo = \"mágico\"\n",
    "\n",
    "    params = {\n",
    "        \"messages\": [\n",
    "            {\n",
    "                \"role\": \"system\",\n",
    "                \"content\": f\"\"\"\n",
    "                    Tarea: Sustituir una palabra en una oración sin cambiar el orden de las demás palabras.\n",
    "                    Respuesta: La respuesta solo incluye los candidatos. Tu respuesta no debe incluir todas las oraciones, solo las palabras por las que se quiere sustituir. La respuesta debe ser en el siguiente formato JSON:\n",
    "                        {{\n",
    "                            \"candidatos\": [\"candidato1\", \"candidato2\", \"candidato3\", \"candidato4\", \"candidato5\"],\n",
    "                        }}\n",
    "\n",
    "                    Ejemplo de oración original: \"{oracion_ejemplo}\" Palabra a sustituir: \"{palabra_ejemplo}\" Respuesta: {{ \"candidatos\": [ \"encantador\", \"fascinante\", \"sobrenatural\", \"misterioso\", \"maravilloso\"] }}\n",
    "                \"\"\"\n",
    "            },\n",
    "            {\n",
    "                \"role\": \"user\",\n",
    "                \"content\": f\"\"\"\n",
    "                    La oración original es: \"{oracion}\" La palabra a sustituir es \"{palabra}\".\n",
    "                    Instrucciones: Proporciona cinco candidatos para sustituir la palabra \"{palabra}\" en la oración, manteniendo el significado general y la coherencia de la oración. Los candidatos no deben alterar el orden de las demás palabras en la oración.\n",
    "                \"\"\"\n",
    "            }\n",
    "        ],\n",
    "        \"model\": f\"{model}\",  # Aquí debes reemplazar \"model\" por el identificador de modelo real que deseas utilizar.\n",
    "        \"max_tokens\": 512,\n",
    "        \"temperature\": 0.1,\n",
    "    }\n",
    "\n",
    "\n",
    "    if model != LLAMA: params[\"response_format\"] = { \"type\": \"json_object\" }\n",
    "\n",
    "    chat_completion = client.chat.completions.create(**params)\n",
    "\n",
    "    print(f\"##### {model} #####\")\n",
    "    print(chat_completion.choices[0].message.content)\n",
    "    output = json.loads(chat_completion.choices[0].message.content)\n",
    "    output['candidatos'].append(palabra)\n",
    "\n",
    "    return output\n",
    "\n",
    "get_groq_simplifications(GEMMA, oracion, palabra)"
   ]
  },
  {
   "cell_type": "code",
   "execution_count": 34,
   "metadata": {},
   "outputs": [],
   "source": [
    "import pandas as pd\n",
    "import matplotlib.pyplot as plt\n",
    "\n",
    "df = pd.read_csv('data/CREA_total.TXT', sep='\\t', header=None,\n",
    "                 names=['Orden', 'Palabra', 'Frec.absoluta', 'Frec.normalizada'],\n",
    "                 encoding='ISO 8859-1', low_memory=False,\n",
    "                 dtype={'Orden': str, 'Palabra': str, 'Frec.absoluta': str, 'Frec.normalizada': float})\n",
    "\n",
    "\n",
    "# Asegurarse de que 'Frec.normalizada' se interprete como numérico\n",
    "df['Frec.normalizada'] = pd.to_numeric(df['Frec.normalizada'], errors='coerce')\n",
    "\n",
    "# Ordenar el DataFrame por 'Frec.normalizada' para un mejor gráfico\n",
    "df_sorted = df.sort_values(by='Frec.normalizada', ascending=True)\n",
    "\n",
    "# Suponiendo que ya has cargado los datos en el DataFrame df\n",
    "# Convertir explícitamente la columna 'Palabra' a cadenas de texto\n",
    "df['Palabra'] = df['Palabra'].astype(str)\n",
    "\n",
    "# Ordenar el DataFrame por 'Frec.normalizada' para un mejor gráfico\n",
    "df_sorted = df.sort_values(by='Frec.normalizada', ascending=True)\n",
    "\n",
    "# Convertir 'Frec.normalizada' a numérico, por si acaso no lo está\n",
    "df['Frec.normalizada'] = pd.to_numeric(df['Frec.normalizada'], errors='coerce')"
   ]
  },
  {
   "cell_type": "code",
   "execution_count": 6,
   "metadata": {},
   "outputs": [
    {
     "data": {
      "text/html": [
       "<div>\n",
       "<style scoped>\n",
       "    .dataframe tbody tr th:only-of-type {\n",
       "        vertical-align: middle;\n",
       "    }\n",
       "\n",
       "    .dataframe tbody tr th {\n",
       "        vertical-align: top;\n",
       "    }\n",
       "\n",
       "    .dataframe thead th {\n",
       "        text-align: right;\n",
       "    }\n",
       "</style>\n",
       "<table border=\"1\" class=\"dataframe\">\n",
       "  <thead>\n",
       "    <tr style=\"text-align: right;\">\n",
       "      <th></th>\n",
       "      <th>Orden</th>\n",
       "      <th>Palabra</th>\n",
       "      <th>Frec.absoluta</th>\n",
       "      <th>Frec.normalizada</th>\n",
       "    </tr>\n",
       "  </thead>\n",
       "  <tbody>\n",
       "    <tr>\n",
       "      <th>0</th>\n",
       "      <td>Orden</td>\n",
       "      <td>Frec.absoluta</td>\n",
       "      <td>Frec.normalizada</td>\n",
       "      <td>NaN</td>\n",
       "    </tr>\n",
       "    <tr>\n",
       "      <th>1</th>\n",
       "      <td>1.</td>\n",
       "      <td>de</td>\n",
       "      <td>9,999,518</td>\n",
       "      <td>65545.55</td>\n",
       "    </tr>\n",
       "    <tr>\n",
       "      <th>2</th>\n",
       "      <td>2.</td>\n",
       "      <td>la</td>\n",
       "      <td>6,277,560</td>\n",
       "      <td>41148.59</td>\n",
       "    </tr>\n",
       "    <tr>\n",
       "      <th>3</th>\n",
       "      <td>3.</td>\n",
       "      <td>que</td>\n",
       "      <td>4,681,839</td>\n",
       "      <td>30688.85</td>\n",
       "    </tr>\n",
       "    <tr>\n",
       "      <th>4</th>\n",
       "      <td>4.</td>\n",
       "      <td>el</td>\n",
       "      <td>4,569,652</td>\n",
       "      <td>29953.48</td>\n",
       "    </tr>\n",
       "  </tbody>\n",
       "</table>\n",
       "</div>"
      ],
      "text/plain": [
       "        Orden         Palabra       Frec.absoluta  Frec.normalizada\n",
       "0       Orden  Frec.absoluta    Frec.normalizada                NaN\n",
       "1          1.              de          9,999,518           65545.55\n",
       "2          2.              la          6,277,560           41148.59\n",
       "3          3.            que           4,681,839           30688.85\n",
       "4          4.              el          4,569,652           29953.48"
      ]
     },
     "execution_count": 6,
     "metadata": {},
     "output_type": "execute_result"
    }
   ],
   "source": [
    "df.head()"
   ]
  },
  {
   "cell_type": "code",
   "execution_count": 7,
   "metadata": {},
   "outputs": [],
   "source": [
    "import pandas as pd\n",
    "import unicodedata\n",
    "import json\n",
    "\n",
    "# Función para remover acentos y caracteres diacríticos\n",
    "def remover_acentos(input_str):\n",
    "    if isinstance(input_str, float):  # Verifica si el valor es un float (lo que usualmente indica un NaN en pandas)\n",
    "        return \"\"  # Devuelve una cadena vacía si el valor es NaN\n",
    "    nfkd_form = unicodedata.normalize('NFKD', input_str)\n",
    "    return \"\".join(c for c in nfkd_form if not unicodedata.combining(c))\n",
    "\n",
    "def obtener_frecuencias_de_sustitutos(candidatos):\n",
    "    # Leer el DataFrame asegurándose de que las columnas tienen el tipo correcto\n",
    "    # Es posible que necesites ajustar los tipos dependiendo de los datos\n",
    "    df = pd.read_csv('data/CREA_total.TXT', sep='\\t', header=None,\n",
    "                    names=['Orden', 'Palabra', 'Frec.absoluta', 'Frec.normalizada'],\n",
    "                    encoding='ISO 8859-1', low_memory=False,\n",
    "                    dtype={'Orden': str, 'Palabra': str, 'Frec.absoluta': str, 'Frec.normalizada': float})\n",
    "\n",
    "    # Crear una nueva lista con las palabras sin acentos y en minúsculas\n",
    "    candidatos_minuscula = [remover_acentos(palabra).lower() for palabra in candidatos[\"candidatos\"]]\n",
    "\n",
    "    # Normalizar la columna 'Palabra' en el DataFrame para que coincida con la lista de candidatos\n",
    "    df['Palabra'] = df['Palabra'].astype(str).apply(remover_acentos).str.lower().str.strip()\n",
    "\n",
    "    # Filtrar el DataFrame para obtener solo las filas que contienen las palabras candidatas\n",
    "    df_filtrado = df[df['Palabra'].isin(candidatos_minuscula)]\n",
    "\n",
    "    df_unicas_filtradas = df_filtrado.drop_duplicates(subset='Palabra')\n",
    "\n",
    "    return df_unicas_filtradas"
   ]
  },
  {
   "cell_type": "code",
   "execution_count": 9,
   "metadata": {},
   "outputs": [
    {
     "name": "stdout",
     "output_type": "stream",
     "text": [
      "         Orden       Palabra Frec.absoluta  Frec.normalizada\n",
      "2160     2160.      profunda         6,817             44.68\n",
      "7411     7411.    misterioso         1,730             11.33\n",
      "9546     9546.    fascinante         1,253              8.21\n",
      "13852   13852.  sobrenatural           769              5.04\n",
      "15104   15104.     asombroso           682              4.47\n",
      "18416   18416.    encantador           519              3.40\n"
     ]
    }
   ],
   "source": [
    "candidatos_mixtral = get_groq_simplifications(MIXTRAL, oracion ,palabra)\n",
    "df_filtrado_mixtral = obtener_frecuencias_de_sustitutos(candidatos_mixtral)\n",
    "print(df_filtrado_mixtral)"
   ]
  },
  {
   "cell_type": "code",
   "execution_count": 10,
   "metadata": {},
   "outputs": [
    {
     "name": "stdout",
     "output_type": "stream",
     "text": [
      "         Orden       Palabra Frec.absoluta  Frec.normalizada\n",
      "2160     2160.      profunda         6,817             44.68\n",
      "6047     6047.   maravilloso         2,214             14.51\n",
      "7411     7411.    misterioso         1,730             11.33\n",
      "9546     9546.    fascinante         1,253              8.21\n",
      "13852   13852.  sobrenatural           769              5.04\n",
      "18416   18416.    encantador           519              3.40\n"
     ]
    }
   ],
   "source": [
    "candidatos_llama = get_groq_simplifications(LLAMA, oracion ,palabra)\n",
    "df_filtrado_llama = obtener_frecuencias_de_sustitutos(candidatos_llama)\n",
    "print(df_filtrado_llama)\n"
   ]
  },
  {
   "cell_type": "code",
   "execution_count": 35,
   "metadata": {},
   "outputs": [],
   "source": [
    "# ERROR con json.loads()\n",
    "\n",
    "# candidatos_gemma = get_groq_simplifications(GEMMA, oracion ,palabra)\n",
    "# df_filtrado_gemma = obtener_frecuencias_de_sustitutos(candidatos_gemma)\n",
    "# print(df_filtrado_gemma)"
   ]
  },
  {
   "cell_type": "code",
   "execution_count": 11,
   "metadata": {},
   "outputs": [],
   "source": [
    "def obtener_predicciones(oracion_p: str, palabra_p: str):\n",
    "    candidatos_mixtral = get_groq_simplifications(MIXTRAL, oracion_p, palabra_p)\n",
    "    df_filtrado_mixtral = obtener_frecuencias_de_sustitutos(candidatos_mixtral)\n",
    "\n",
    "    candidatos_llama = get_groq_simplifications(LLAMA, oracion_p, palabra_p)\n",
    "    df_filtrado_llama = obtener_frecuencias_de_sustitutos(candidatos_llama)\n",
    "\n",
    "    # combinamos filtrados de los modelos\n",
    "    df_merged = pd.concat([df_filtrado_mixtral, df_filtrado_llama], ignore_index=True)\n",
    "\n",
    "    # Ordenamos segun frecuencia absoluta\n",
    "    df_merged = df_merged.sort_values('Frec.absoluta', ascending=False)\n",
    "\n",
    "    # Elimino duplicados\n",
    "    df_merged = df_merged.drop_duplicates(subset='Palabra')\n",
    "\n",
    "    return df_merged\n"
   ]
  },
  {
   "cell_type": "code",
   "execution_count": 10,
   "metadata": {},
   "outputs": [
    {
     "name": "stdout",
     "output_type": "stream",
     "text": [
      "['Notifique a su Banco o institución financiera la pérdida o robo de sus tarjetas, chequeras o si sospecha que alguien está utilizando sus cuentas sin su permiso.', 'Una falta de liquidez ocasiona problemas que pueden amenazar la permanencia del negocio en el mercado; problemas como: detención de pago de sueldos, falta de inventario, restricción de crédito de proveedores, falta de capital de trabajo, entre otros.', 'Una falta de liquidez ocasiona problemas que pueden amenazar la permanencia del negocio en el mercado; problemas como: detención de pago de sueldos, falta de inventario, restricción de crédito de proveedores, falta de capital de trabajo, entre otros.', 'Una falta de liquidez ocasiona problemas que pueden amenazar la permanencia del negocio en el mercado; problemas como: detención de pago de sueldos, falta de inventario, restricción de crédito de proveedores, falta de capital de trabajo, entre otros.', 'Cuando se visita a los norteamericanos y se estudian sus leyes, se ve que la autoridad que han dado a los legistas y la influencia que les han dejado tener en el gobierno, forman hoy la más poderosa barrera contra los desvíos de la democracia.', 'Cuando se visita a los norteamericanos y se estudian sus leyes, se ve que la autoridad que han dado a los legistas y la influencia que les han dejado tener en el gobierno, forman hoy la más poderosa barrera contra los desvíos de la democracia.', 'Cuando se visita a los norteamericanos y se estudian sus leyes, se ve que la autoridad que han dado a los legistas y la influencia que les han dejado tener en el gobierno, forman hoy la más poderosa barrera contra los desvíos de la democracia.', 'Dicha prosperidad o seguridad está estrechamente vinculada al trabajo, porque no existe aquélla sin el trabajo intenso, para el cual realmente no hay sustituto.', 'Dicha prosperidad o seguridad está estrechamente vinculada al trabajo, porque no existe aquélla sin el trabajo intenso, para el cual realmente no hay sustituto.', 'Dicha prosperidad o seguridad está estrechamente vinculada al trabajo, porque no existe aquélla sin el trabajo intenso, para el cual realmente no hay sustituto.', 'El único estado que no exige el seguro de responsabilidad exige a los automovilistas que demuestren que tienen fondos suficientes para cubrir los gastos si tienen la culpa en el incidente.', 'El único estado que no exige el seguro de responsabilidad exige a los automovilistas que demuestren que tienen fondos suficientes para cubrir los gastos si tienen la culpa en el incidente.', 'El único estado que no exige el seguro de responsabilidad exige a los automovilistas que demuestren que tienen fondos suficientes para cubrir los gastos si tienen la culpa en el incidente.', 'Las comunidades dependen de la producción de bienes y servicios producidos para mover la economía lo más equilibradamente posible.', 'Las comunidades dependen de la producción de bienes y servicios producidos para mover la economía lo más equilibradamente posible.', 'Las comunidades dependen de la producción de bienes y servicios producidos para mover la economía lo más equilibradamente posible.', 'Los documentos debe archivarlos en fólderes o carpetas separados, identificando cada carpeta y organizándola en orden alfabético o por asuntos, en un archivador o caja de seguridad.', 'Los documentos debe archivarlos en fólderes o carpetas separados, identificando cada carpeta y organizándola en orden alfabético o por asuntos, en un archivador o caja de seguridad.', 'Los documentos debe archivarlos en fólderes o carpetas separados, identificando cada carpeta y organizándola en orden alfabético o por asuntos, en un archivador o caja de seguridad.', 'Los seguros son una modalidad de gestión financiera que le ayudará a las personas a prevenir descalabros en sus ingresos y en su seguridad personal que en un momento dado son inevitables y que a cualquier persona pueden ocurrirle.', 'Los seguros son una modalidad de gestión financiera que le ayudará a las personas a prevenir descalabros en sus ingresos y en su seguridad personal que en un momento dado son inevitables y que a cualquier persona pueden ocurrirle.', 'Los seguros son una modalidad de gestión financiera que le ayudará a las personas a prevenir descalabros en sus ingresos y en su seguridad personal que en un momento dado son inevitables y que a cualquier persona pueden ocurrirle.', 'Notifique a su Banco o institución financiera la pérdida o robo de sus tarjetas, chequeras o si sospecha que alguien está utilizando sus cuentas sin su permiso.', 'Notifique a su Banco o institución financiera la pérdida o robo de sus tarjetas, chequeras o si sospecha que alguien está utilizando sus cuentas sin su permiso.', 'Pueden estar colmados de desbarajustes y el bienestar de la familia puede estar en una terrible situación, pero ellos ya se acostumbraron a ella.', 'Pueden estar colmados de desbarajustes y el bienestar de la familia puede estar en una terrible situación, pero ellos ya se acostumbraron a ella.', 'Pueden estar colmados de desbarajustes y el bienestar de la familia puede estar en una terrible situación, pero ellos ya se acostumbraron a ella.', 'Y le va a presentar algunos retos personales pero no es ese escenario lúgubre que tal vez esperaría.', 'Y le va a presentar algunos retos personales pero no es ese escenario lúgubre que tal vez esperaría.', 'Y le va a presentar algunos retos personales pero no es ese escenario lúgubre que tal vez esperaría.']\n"
     ]
    }
   ],
   "source": [
    "# Trial data\n",
    "\n",
    "spanish_input_file = \"/home/spoturno/coding/MLSP_Data/Data/Trial/Spanish/multilex_trial_es_ls.tsv\" # change this\n",
    "\n",
    "sentences = []\n",
    "target_words = []\n",
    "\n",
    "with open(spanish_input_file, 'r', encoding='utf-8') as file:\n",
    "    for line in file:\n",
    "        # Separamos la linea en tabulaciones \n",
    "        parts = line.strip().split('\\t')\n",
    "        sentence = parts[0]\n",
    "        target_word = parts[1]\n",
    "        sentences.append(sentence)\n",
    "        target_words.append(target_word)\n",
    "\n",
    "print(sentences)"
   ]
  },
  {
   "cell_type": "code",
   "execution_count": 18,
   "metadata": {},
   "outputs": [
    {
     "name": "stdout",
     "output_type": "stream",
     "text": [
      "##### mixtral-8x7b-32768 #####\n",
      "{\n",
      "\"candidatos\": [\n",
      "\"cumbre\",\n",
      "\"extremo\",\n",
      "\"punta\",\n",
      "\"cabecera\",\n",
      "\"esquina\"\n",
      "]\n",
      "}\n",
      "##### llama2-70b-4096 #####\n",
      "Sure, here are five candidates to replace the word \"vertice\" in the sentence \"El gato estaba sentado en el vertice de la calle\" without changing the order of the other words:\n",
      "\n",
      "1. Cima: This means \"summit\" or \"peak\" in Spanish, which could work in this context to refer to the highest point of the street.\n",
      "2. Culminación: This means \"culmination\" or \"peak\" in Spanish, which could also work to refer to the highest point of the street.\n",
      "3. Techo: This means \"roof\" in Spanish, which could work in this context to refer to the highest point of the street, although it might not have the same connotations of \"vertice\" which implies a pointy peak.\n",
      "4. Cúspide: This means \"summit\" or \"peak\" in Spanish, and could work in a similar way to \"vertice\" to refer to the highest point of the street.\n",
      "5. Pico: This means \"peak\" in Spanish, and could work in a similar way to \"vertice\" to refer to the highest point of the street.\n",
      "\n",
      "Here are the five candidates in JSON format:\n",
      "\n",
      "[\n",
      "{\"word\": \"cima\"},\n",
      "{\"word\": \"culminación\"},\n",
      "{\"word\": \"techo\"},\n",
      "{\"word\": \"cúspide\"},\n",
      "{\"word\": \"pico\"}\n",
      "]\n",
      "\n",
      "I hope this helps! Let me know if you have any other questions.\n"
     ]
    },
    {
     "ename": "JSONDecodeError",
     "evalue": "Expecting value: line 1 column 1 (char 0)",
     "output_type": "error",
     "traceback": [
      "\u001b[0;31m---------------------------------------------------------------------------\u001b[0m",
      "\u001b[0;31mJSONDecodeError\u001b[0m                           Traceback (most recent call last)",
      "Cell \u001b[0;32mIn[18], line 1\u001b[0m\n\u001b[0;32m----> 1\u001b[0m \u001b[43mobtener_predicciones\u001b[49m\u001b[43m(\u001b[49m\u001b[38;5;124;43m\"\u001b[39;49m\u001b[38;5;124;43mEl gato estaba sentado en el vertice de la calle\u001b[39;49m\u001b[38;5;124;43m\"\u001b[39;49m\u001b[43m,\u001b[49m\u001b[43m \u001b[49m\u001b[38;5;124;43m\"\u001b[39;49m\u001b[38;5;124;43mvertice\u001b[39;49m\u001b[38;5;124;43m\"\u001b[39;49m\u001b[43m)\u001b[49m\n",
      "Cell \u001b[0;32mIn[11], line 5\u001b[0m, in \u001b[0;36mobtener_predicciones\u001b[0;34m(oracion_p, palabra_p)\u001b[0m\n\u001b[1;32m      2\u001b[0m candidatos_mixtral \u001b[38;5;241m=\u001b[39m get_groq_simplifications(MIXTRAL, oracion_p, palabra_p)\n\u001b[1;32m      3\u001b[0m df_filtrado_mixtral \u001b[38;5;241m=\u001b[39m obtener_frecuencias_de_sustitutos(candidatos_mixtral)\n\u001b[0;32m----> 5\u001b[0m candidatos_llama \u001b[38;5;241m=\u001b[39m \u001b[43mget_groq_simplifications\u001b[49m\u001b[43m(\u001b[49m\u001b[43mLLAMA\u001b[49m\u001b[43m,\u001b[49m\u001b[43m \u001b[49m\u001b[43moracion_p\u001b[49m\u001b[43m,\u001b[49m\u001b[43m \u001b[49m\u001b[43mpalabra_p\u001b[49m\u001b[43m)\u001b[49m\n\u001b[1;32m      6\u001b[0m df_filtrado_llama \u001b[38;5;241m=\u001b[39m obtener_frecuencias_de_sustitutos(candidatos_llama)\n\u001b[1;32m      8\u001b[0m \u001b[38;5;66;03m# combinamos filtrados de los modelos\u001b[39;00m\n",
      "Cell \u001b[0;32mIn[17], line 26\u001b[0m, in \u001b[0;36mget_groq_simplifications\u001b[0;34m(model, oracion, palabra)\u001b[0m\n\u001b[1;32m     24\u001b[0m \u001b[38;5;28mprint\u001b[39m(\u001b[38;5;124mf\u001b[39m\u001b[38;5;124m\"\u001b[39m\u001b[38;5;124m##### \u001b[39m\u001b[38;5;132;01m{\u001b[39;00mmodel\u001b[38;5;132;01m}\u001b[39;00m\u001b[38;5;124m #####\u001b[39m\u001b[38;5;124m\"\u001b[39m)\n\u001b[1;32m     25\u001b[0m \u001b[38;5;28mprint\u001b[39m(chat_completion\u001b[38;5;241m.\u001b[39mchoices[\u001b[38;5;241m0\u001b[39m]\u001b[38;5;241m.\u001b[39mmessage\u001b[38;5;241m.\u001b[39mcontent)\n\u001b[0;32m---> 26\u001b[0m output \u001b[38;5;241m=\u001b[39m \u001b[43mjson\u001b[49m\u001b[38;5;241;43m.\u001b[39;49m\u001b[43mloads\u001b[49m\u001b[43m(\u001b[49m\u001b[43mchat_completion\u001b[49m\u001b[38;5;241;43m.\u001b[39;49m\u001b[43mchoices\u001b[49m\u001b[43m[\u001b[49m\u001b[38;5;241;43m0\u001b[39;49m\u001b[43m]\u001b[49m\u001b[38;5;241;43m.\u001b[39;49m\u001b[43mmessage\u001b[49m\u001b[38;5;241;43m.\u001b[39;49m\u001b[43mcontent\u001b[49m\u001b[43m)\u001b[49m\n\u001b[1;32m     27\u001b[0m output[\u001b[38;5;124m'\u001b[39m\u001b[38;5;124mcandidatos\u001b[39m\u001b[38;5;124m'\u001b[39m]\u001b[38;5;241m.\u001b[39mappend(palabra)\n\u001b[1;32m     29\u001b[0m \u001b[38;5;28;01mreturn\u001b[39;00m output\n",
      "File \u001b[0;32m/usr/lib/python3.10/json/__init__.py:346\u001b[0m, in \u001b[0;36mloads\u001b[0;34m(s, cls, object_hook, parse_float, parse_int, parse_constant, object_pairs_hook, **kw)\u001b[0m\n\u001b[1;32m    341\u001b[0m     s \u001b[38;5;241m=\u001b[39m s\u001b[38;5;241m.\u001b[39mdecode(detect_encoding(s), \u001b[38;5;124m'\u001b[39m\u001b[38;5;124msurrogatepass\u001b[39m\u001b[38;5;124m'\u001b[39m)\n\u001b[1;32m    343\u001b[0m \u001b[38;5;28;01mif\u001b[39;00m (\u001b[38;5;28mcls\u001b[39m \u001b[38;5;129;01mis\u001b[39;00m \u001b[38;5;28;01mNone\u001b[39;00m \u001b[38;5;129;01mand\u001b[39;00m object_hook \u001b[38;5;129;01mis\u001b[39;00m \u001b[38;5;28;01mNone\u001b[39;00m \u001b[38;5;129;01mand\u001b[39;00m\n\u001b[1;32m    344\u001b[0m         parse_int \u001b[38;5;129;01mis\u001b[39;00m \u001b[38;5;28;01mNone\u001b[39;00m \u001b[38;5;129;01mand\u001b[39;00m parse_float \u001b[38;5;129;01mis\u001b[39;00m \u001b[38;5;28;01mNone\u001b[39;00m \u001b[38;5;129;01mand\u001b[39;00m\n\u001b[1;32m    345\u001b[0m         parse_constant \u001b[38;5;129;01mis\u001b[39;00m \u001b[38;5;28;01mNone\u001b[39;00m \u001b[38;5;129;01mand\u001b[39;00m object_pairs_hook \u001b[38;5;129;01mis\u001b[39;00m \u001b[38;5;28;01mNone\u001b[39;00m \u001b[38;5;129;01mand\u001b[39;00m \u001b[38;5;129;01mnot\u001b[39;00m kw):\n\u001b[0;32m--> 346\u001b[0m     \u001b[38;5;28;01mreturn\u001b[39;00m \u001b[43m_default_decoder\u001b[49m\u001b[38;5;241;43m.\u001b[39;49m\u001b[43mdecode\u001b[49m\u001b[43m(\u001b[49m\u001b[43ms\u001b[49m\u001b[43m)\u001b[49m\n\u001b[1;32m    347\u001b[0m \u001b[38;5;28;01mif\u001b[39;00m \u001b[38;5;28mcls\u001b[39m \u001b[38;5;129;01mis\u001b[39;00m \u001b[38;5;28;01mNone\u001b[39;00m:\n\u001b[1;32m    348\u001b[0m     \u001b[38;5;28mcls\u001b[39m \u001b[38;5;241m=\u001b[39m JSONDecoder\n",
      "File \u001b[0;32m/usr/lib/python3.10/json/decoder.py:337\u001b[0m, in \u001b[0;36mJSONDecoder.decode\u001b[0;34m(self, s, _w)\u001b[0m\n\u001b[1;32m    332\u001b[0m \u001b[38;5;28;01mdef\u001b[39;00m \u001b[38;5;21mdecode\u001b[39m(\u001b[38;5;28mself\u001b[39m, s, _w\u001b[38;5;241m=\u001b[39mWHITESPACE\u001b[38;5;241m.\u001b[39mmatch):\n\u001b[1;32m    333\u001b[0m \u001b[38;5;250m    \u001b[39m\u001b[38;5;124;03m\"\"\"Return the Python representation of ``s`` (a ``str`` instance\u001b[39;00m\n\u001b[1;32m    334\u001b[0m \u001b[38;5;124;03m    containing a JSON document).\u001b[39;00m\n\u001b[1;32m    335\u001b[0m \n\u001b[1;32m    336\u001b[0m \u001b[38;5;124;03m    \"\"\"\u001b[39;00m\n\u001b[0;32m--> 337\u001b[0m     obj, end \u001b[38;5;241m=\u001b[39m \u001b[38;5;28;43mself\u001b[39;49m\u001b[38;5;241;43m.\u001b[39;49m\u001b[43mraw_decode\u001b[49m\u001b[43m(\u001b[49m\u001b[43ms\u001b[49m\u001b[43m,\u001b[49m\u001b[43m \u001b[49m\u001b[43midx\u001b[49m\u001b[38;5;241;43m=\u001b[39;49m\u001b[43m_w\u001b[49m\u001b[43m(\u001b[49m\u001b[43ms\u001b[49m\u001b[43m,\u001b[49m\u001b[43m \u001b[49m\u001b[38;5;241;43m0\u001b[39;49m\u001b[43m)\u001b[49m\u001b[38;5;241;43m.\u001b[39;49m\u001b[43mend\u001b[49m\u001b[43m(\u001b[49m\u001b[43m)\u001b[49m\u001b[43m)\u001b[49m\n\u001b[1;32m    338\u001b[0m     end \u001b[38;5;241m=\u001b[39m _w(s, end)\u001b[38;5;241m.\u001b[39mend()\n\u001b[1;32m    339\u001b[0m     \u001b[38;5;28;01mif\u001b[39;00m end \u001b[38;5;241m!=\u001b[39m \u001b[38;5;28mlen\u001b[39m(s):\n",
      "File \u001b[0;32m/usr/lib/python3.10/json/decoder.py:355\u001b[0m, in \u001b[0;36mJSONDecoder.raw_decode\u001b[0;34m(self, s, idx)\u001b[0m\n\u001b[1;32m    353\u001b[0m     obj, end \u001b[38;5;241m=\u001b[39m \u001b[38;5;28mself\u001b[39m\u001b[38;5;241m.\u001b[39mscan_once(s, idx)\n\u001b[1;32m    354\u001b[0m \u001b[38;5;28;01mexcept\u001b[39;00m \u001b[38;5;167;01mStopIteration\u001b[39;00m \u001b[38;5;28;01mas\u001b[39;00m err:\n\u001b[0;32m--> 355\u001b[0m     \u001b[38;5;28;01mraise\u001b[39;00m JSONDecodeError(\u001b[38;5;124m\"\u001b[39m\u001b[38;5;124mExpecting value\u001b[39m\u001b[38;5;124m\"\u001b[39m, s, err\u001b[38;5;241m.\u001b[39mvalue) \u001b[38;5;28;01mfrom\u001b[39;00m \u001b[38;5;28;01mNone\u001b[39;00m\n\u001b[1;32m    356\u001b[0m \u001b[38;5;28;01mreturn\u001b[39;00m obj, end\n",
      "\u001b[0;31mJSONDecodeError\u001b[0m: Expecting value: line 1 column 1 (char 0)"
     ]
    }
   ],
   "source": [
    "obtener_predicciones(\"El gato estaba sentado en el vertice de la calle\", \"vertice\")"
   ]
  },
  {
   "cell_type": "code",
   "execution_count": null,
   "metadata": {},
   "outputs": [],
   "source": []
  }
 ],
 "metadata": {
  "kernelspec": {
   "display_name": "Python 3 (ipykernel)",
   "language": "python",
   "name": "python3"
  },
  "language_info": {
   "codemirror_mode": {
    "name": "ipython",
    "version": 3
   },
   "file_extension": ".py",
   "mimetype": "text/x-python",
   "name": "python",
   "nbconvert_exporter": "python",
   "pygments_lexer": "ipython3",
   "version": "3.10.12"
  }
 },
 "nbformat": 4,
 "nbformat_minor": 4
}
