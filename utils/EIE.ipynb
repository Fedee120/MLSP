{
 "cells": [
  {
   "cell_type": "code",
   "execution_count": 1,
   "metadata": {},
   "outputs": [],
   "source": [
    "LLAMA = \"llama2-70b-4096\"\n",
    "GEMMA = \"gemma-7b-it\"\n",
    "MIXTRAL = \"mixtral-8x7b-32768\"\n",
    "\n",
    "oracion = \"El susurro del viento me transportó a un estado de serenidad profunda que no había experimentado antes.\"\n",
    "palabra = \"profunda\""
   ]
  },
  {
   "cell_type": "code",
   "execution_count": 2,
   "metadata": {},
   "outputs": [],
   "source": [
    "from groq import Groq\n",
    "import json\n",
    "\n",
    "def get_groq_simplifications(model: str, oracion: str, palabra: str):\n",
    "    client = Groq(\n",
    "        api_key=\"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\",\n",
    "    )\n",
    "\n",
    "    oracion_ejemplo = \"El resplandeciente sol iluminaba el paisaje selvático, creando un efecto casi mágico en la vegetación exuberante que se extendía a lo lejos.\"\n",
    "    palabra_ejemplo = \"mágico\"\n",
    "\n",
    "    chat_completion = client.chat.completions.create(\n",
    "        messages=[\n",
    "            {\n",
    "                \"role\": \"user\",\n",
    "                \"content\": f\"\"\"Tarea: Sustituir una palabra en una oración sin cambiar el orden de las demás palabras. La oración original es: \"{oracion}\" La palabra a sustituir es \"{palabra}\". Instrucciones: Proporciona cinco candidatos para sustituir la palabra \"mágico\" en la oración, manteniendo el significado general y la coherencia de la oración. Los candidatos no deben alterar el orden de las demás palabras en la oración. La salida debe ser en formato JSON. La respuesta solo incluye los candidatos. Tu respuesta no debe incluir todas las oraciones, solo las palabras por las que se quiere sustituir Ejemplo de oración original: \"{oracion_ejemplo}\" Palabra a sustituir: \"{palabra_ejemplo}\" Candidatos solicitados: Encantador Fascinante Sobrenatural Misterioso Maravilloso\"\"\",        \n",
    "            }\n",
    "        ],\n",
    "        model=model, # mixtral-8x7b-32768, # llama2-70b-409, # gemma-7b-it\n",
    "        max_tokens=1024,\n",
    "        temperature=0.55,\n",
    "    )\n",
    "\n",
    "    output = json.loads(chat_completion.choices[0].message.content)\n",
    "    output['candidatos'].append(palabra)\n",
    "\n",
    "    return output"
   ]
  },
  {
   "cell_type": "code",
   "execution_count": 4,
   "metadata": {},
   "outputs": [],
   "source": [
    "import pandas as pd\n",
    "import matplotlib.pyplot as plt\n",
    "\n",
    "df = pd.read_csv('data/CREA_total.TXT', sep='\\t', header=None,\n",
    "                 names=['Orden', 'Palabra', 'Frec.absoluta', 'Frec.normalizada'],\n",
    "                 encoding='ISO 8859-1', low_memory=False,\n",
    "                 dtype={'Orden': str, 'Palabra': str, 'Frec.absoluta': str, 'Frec.normalizada': float})\n",
    "\n",
    "\n",
    "# Asegurarse de que 'Frec.normalizada' se interprete como numérico\n",
    "df['Frec.normalizada'] = pd.to_numeric(df['Frec.normalizada'], errors='coerce')\n",
    "\n",
    "# Ordenar el DataFrame por 'Frec.normalizada' para un mejor gráfico\n",
    "df_sorted = df.sort_values(by='Frec.normalizada', ascending=True)\n",
    "\n",
    "# Suponiendo que ya has cargado los datos en el DataFrame df\n",
    "# Convertir explícitamente la columna 'Palabra' a cadenas de texto\n",
    "df['Palabra'] = df['Palabra'].astype(str)\n",
    "\n",
    "# Ordenar el DataFrame por 'Frec.normalizada' para un mejor gráfico\n",
    "df_sorted = df.sort_values(by='Frec.normalizada', ascending=True)\n",
    "\n",
    "# Convertir 'Frec.normalizada' a numérico, por si acaso no lo está\n",
    "df['Frec.normalizada'] = pd.to_numeric(df['Frec.normalizada'], errors='coerce')"
   ]
  },
  {
   "cell_type": "code",
   "execution_count": 5,
   "metadata": {},
   "outputs": [
    {
     "data": {
      "text/html": [
       "<div>\n",
       "<style scoped>\n",
       "    .dataframe tbody tr th:only-of-type {\n",
       "        vertical-align: middle;\n",
       "    }\n",
       "\n",
       "    .dataframe tbody tr th {\n",
       "        vertical-align: top;\n",
       "    }\n",
       "\n",
       "    .dataframe thead th {\n",
       "        text-align: right;\n",
       "    }\n",
       "</style>\n",
       "<table border=\"1\" class=\"dataframe\">\n",
       "  <thead>\n",
       "    <tr style=\"text-align: right;\">\n",
       "      <th></th>\n",
       "      <th>Orden</th>\n",
       "      <th>Palabra</th>\n",
       "      <th>Frec.absoluta</th>\n",
       "      <th>Frec.normalizada</th>\n",
       "    </tr>\n",
       "  </thead>\n",
       "  <tbody>\n",
       "    <tr>\n",
       "      <th>0</th>\n",
       "      <td>Orden</td>\n",
       "      <td>Frec.absoluta</td>\n",
       "      <td>Frec.normalizada</td>\n",
       "      <td>NaN</td>\n",
       "    </tr>\n",
       "    <tr>\n",
       "      <th>1</th>\n",
       "      <td>1.</td>\n",
       "      <td>de</td>\n",
       "      <td>9,999,518</td>\n",
       "      <td>65545.55</td>\n",
       "    </tr>\n",
       "    <tr>\n",
       "      <th>2</th>\n",
       "      <td>2.</td>\n",
       "      <td>la</td>\n",
       "      <td>6,277,560</td>\n",
       "      <td>41148.59</td>\n",
       "    </tr>\n",
       "    <tr>\n",
       "      <th>3</th>\n",
       "      <td>3.</td>\n",
       "      <td>que</td>\n",
       "      <td>4,681,839</td>\n",
       "      <td>30688.85</td>\n",
       "    </tr>\n",
       "    <tr>\n",
       "      <th>4</th>\n",
       "      <td>4.</td>\n",
       "      <td>el</td>\n",
       "      <td>4,569,652</td>\n",
       "      <td>29953.48</td>\n",
       "    </tr>\n",
       "  </tbody>\n",
       "</table>\n",
       "</div>"
      ],
      "text/plain": [
       "        Orden         Palabra       Frec.absoluta  Frec.normalizada\n",
       "0       Orden  Frec.absoluta    Frec.normalizada                NaN\n",
       "1          1.              de          9,999,518           65545.55\n",
       "2          2.              la          6,277,560           41148.59\n",
       "3          3.            que           4,681,839           30688.85\n",
       "4          4.              el          4,569,652           29953.48"
      ]
     },
     "execution_count": 5,
     "metadata": {},
     "output_type": "execute_result"
    }
   ],
   "source": [
    "df.head()"
   ]
  },
  {
   "cell_type": "code",
   "execution_count": 6,
   "metadata": {},
   "outputs": [],
   "source": [
    "import pandas as pd\n",
    "import unicodedata\n",
    "import json\n",
    "\n",
    "# Función para remover acentos y caracteres diacríticos\n",
    "def remover_acentos(input_str):\n",
    "    if isinstance(input_str, float):  # Verifica si el valor es un float (lo que usualmente indica un NaN en pandas)\n",
    "        return \"\"  # Devuelve una cadena vacía si el valor es NaN\n",
    "    nfkd_form = unicodedata.normalize('NFKD', input_str)\n",
    "    return \"\".join(c for c in nfkd_form if not unicodedata.combining(c))\n",
    "\n",
    "def obtener_frecuencias_de_sustitutos(candidatos):\n",
    "    # Leer el DataFrame asegurándose de que las columnas tienen el tipo correcto\n",
    "    # Es posible que necesites ajustar los tipos dependiendo de los datos\n",
    "    df = pd.read_csv('data/CREA_total.TXT', sep='\\t', header=None,\n",
    "                    names=['Orden', 'Palabra', 'Frec.absoluta', 'Frec.normalizada'],\n",
    "                    encoding='ISO 8859-1', low_memory=False,\n",
    "                    dtype={'Orden': str, 'Palabra': str, 'Frec.absoluta': str, 'Frec.normalizada': float})\n",
    "\n",
    "    # Crear una nueva lista con las palabras sin acentos y en minúsculas\n",
    "    candidatos_minuscula = [remover_acentos(palabra).lower() for palabra in candidatos[\"candidatos\"]]\n",
    "\n",
    "    # Normalizar la columna 'Palabra' en el DataFrame para que coincida con la lista de candidatos\n",
    "    df['Palabra'] = df['Palabra'].astype(str).apply(remover_acentos).str.lower().str.strip()\n",
    "\n",
    "    # Filtrar el DataFrame para obtener solo las filas que contienen las palabras candidatas\n",
    "    df_filtrado = df[df['Palabra'].isin(candidatos_minuscula)]\n",
    "\n",
    "    df_unicas_filtradas = df_filtrado.drop_duplicates(subset='Palabra')\n",
    "\n",
    "    return df_unicas_filtradas"
   ]
  },
  {
   "cell_type": "code",
   "execution_count": 10,
   "metadata": {},
   "outputs": [
    {
     "name": "stdout",
     "output_type": "stream",
     "text": [
      "         Orden       Palabra Frec.absoluta  Frec.normalizada\n",
      "2160     2160.      profunda         6,817             44.68\n",
      "7411     7411.    misterioso         1,730             11.33\n",
      "9546     9546.    fascinante         1,253              8.21\n",
      "13852   13852.  sobrenatural           769              5.04\n",
      "15104   15104.     asombroso           682              4.47\n",
      "18416   18416.    encantador           519              3.40\n"
     ]
    }
   ],
   "source": [
    "candidatos_mixtral = get_groq_simplifications(MIXTRAL, oracion ,palabra)\n",
    "df_filtrado_mixtral = obtener_frecuencias_de_sustitutos(candidatos_mixtral)\n",
    "print(df_filtrado_mixtral)"
   ]
  },
  {
   "cell_type": "code",
   "execution_count": 11,
   "metadata": {},
   "outputs": [
    {
     "name": "stdout",
     "output_type": "stream",
     "text": [
      "         Orden       Palabra Frec.absoluta  Frec.normalizada\n",
      "2160     2160.      profunda         6,817             44.68\n",
      "6047     6047.   maravilloso         2,214             14.51\n",
      "7411     7411.    misterioso         1,730             11.33\n",
      "9546     9546.    fascinante         1,253              8.21\n",
      "13852   13852.  sobrenatural           769              5.04\n",
      "18416   18416.    encantador           519              3.40\n"
     ]
    }
   ],
   "source": [
    "candidatos_llama = get_groq_simplifications(LLAMA, oracion ,palabra)\n",
    "df_filtrado_llama = obtener_frecuencias_de_sustitutos(candidatos_llama)\n",
    "print(df_filtrado_llama)\n"
   ]
  },
  {
   "cell_type": "code",
   "execution_count": 12,
   "metadata": {},
   "outputs": [
    {
     "ename": "JSONDecodeError",
     "evalue": "Expecting value: line 1 column 1 (char 0)",
     "output_type": "error",
     "traceback": [
      "\u001b[0;31m---------------------------------------------------------------------------\u001b[0m",
      "\u001b[0;31mJSONDecodeError\u001b[0m                           Traceback (most recent call last)",
      "Cell \u001b[0;32mIn[12], line 1\u001b[0m\n\u001b[0;32m----> 1\u001b[0m candidatos_gemma \u001b[38;5;241m=\u001b[39m \u001b[43mget_groq_simplifications\u001b[49m\u001b[43m(\u001b[49m\u001b[43mGEMMA\u001b[49m\u001b[43m,\u001b[49m\u001b[43m \u001b[49m\u001b[43moracion\u001b[49m\u001b[43m \u001b[49m\u001b[43m,\u001b[49m\u001b[43mpalabra\u001b[49m\u001b[43m)\u001b[49m\n\u001b[1;32m      2\u001b[0m df_filtrado_gemma \u001b[38;5;241m=\u001b[39m obtener_frecuencias_de_sustitutos(candidatos_gemma)\n\u001b[1;32m      3\u001b[0m \u001b[38;5;28mprint\u001b[39m(df_filtrado_gemma)\n",
      "Cell \u001b[0;32mIn[2], line 24\u001b[0m, in \u001b[0;36mget_groq_simplifications\u001b[0;34m(model, oracion, palabra)\u001b[0m\n\u001b[1;32m     10\u001b[0m palabra_ejemplo \u001b[38;5;241m=\u001b[39m \u001b[38;5;124m\"\u001b[39m\u001b[38;5;124mmágico\u001b[39m\u001b[38;5;124m\"\u001b[39m\n\u001b[1;32m     12\u001b[0m chat_completion \u001b[38;5;241m=\u001b[39m client\u001b[38;5;241m.\u001b[39mchat\u001b[38;5;241m.\u001b[39mcompletions\u001b[38;5;241m.\u001b[39mcreate(\n\u001b[1;32m     13\u001b[0m     messages\u001b[38;5;241m=\u001b[39m[\n\u001b[1;32m     14\u001b[0m         {\n\u001b[0;32m   (...)\u001b[0m\n\u001b[1;32m     21\u001b[0m     temperature\u001b[38;5;241m=\u001b[39m\u001b[38;5;241m0.55\u001b[39m,\n\u001b[1;32m     22\u001b[0m )\n\u001b[0;32m---> 24\u001b[0m output \u001b[38;5;241m=\u001b[39m \u001b[43mjson\u001b[49m\u001b[38;5;241;43m.\u001b[39;49m\u001b[43mloads\u001b[49m\u001b[43m(\u001b[49m\u001b[43mchat_completion\u001b[49m\u001b[38;5;241;43m.\u001b[39;49m\u001b[43mchoices\u001b[49m\u001b[43m[\u001b[49m\u001b[38;5;241;43m0\u001b[39;49m\u001b[43m]\u001b[49m\u001b[38;5;241;43m.\u001b[39;49m\u001b[43mmessage\u001b[49m\u001b[38;5;241;43m.\u001b[39;49m\u001b[43mcontent\u001b[49m\u001b[43m)\u001b[49m\n\u001b[1;32m     25\u001b[0m output[\u001b[38;5;124m'\u001b[39m\u001b[38;5;124mcandidatos\u001b[39m\u001b[38;5;124m'\u001b[39m]\u001b[38;5;241m.\u001b[39mappend(palabra)\n\u001b[1;32m     27\u001b[0m \u001b[38;5;28;01mreturn\u001b[39;00m output\n",
      "File \u001b[0;32m/usr/lib/python3.10/json/__init__.py:346\u001b[0m, in \u001b[0;36mloads\u001b[0;34m(s, cls, object_hook, parse_float, parse_int, parse_constant, object_pairs_hook, **kw)\u001b[0m\n\u001b[1;32m    341\u001b[0m     s \u001b[38;5;241m=\u001b[39m s\u001b[38;5;241m.\u001b[39mdecode(detect_encoding(s), \u001b[38;5;124m'\u001b[39m\u001b[38;5;124msurrogatepass\u001b[39m\u001b[38;5;124m'\u001b[39m)\n\u001b[1;32m    343\u001b[0m \u001b[38;5;28;01mif\u001b[39;00m (\u001b[38;5;28mcls\u001b[39m \u001b[38;5;129;01mis\u001b[39;00m \u001b[38;5;28;01mNone\u001b[39;00m \u001b[38;5;129;01mand\u001b[39;00m object_hook \u001b[38;5;129;01mis\u001b[39;00m \u001b[38;5;28;01mNone\u001b[39;00m \u001b[38;5;129;01mand\u001b[39;00m\n\u001b[1;32m    344\u001b[0m         parse_int \u001b[38;5;129;01mis\u001b[39;00m \u001b[38;5;28;01mNone\u001b[39;00m \u001b[38;5;129;01mand\u001b[39;00m parse_float \u001b[38;5;129;01mis\u001b[39;00m \u001b[38;5;28;01mNone\u001b[39;00m \u001b[38;5;129;01mand\u001b[39;00m\n\u001b[1;32m    345\u001b[0m         parse_constant \u001b[38;5;129;01mis\u001b[39;00m \u001b[38;5;28;01mNone\u001b[39;00m \u001b[38;5;129;01mand\u001b[39;00m object_pairs_hook \u001b[38;5;129;01mis\u001b[39;00m \u001b[38;5;28;01mNone\u001b[39;00m \u001b[38;5;129;01mand\u001b[39;00m \u001b[38;5;129;01mnot\u001b[39;00m kw):\n\u001b[0;32m--> 346\u001b[0m     \u001b[38;5;28;01mreturn\u001b[39;00m \u001b[43m_default_decoder\u001b[49m\u001b[38;5;241;43m.\u001b[39;49m\u001b[43mdecode\u001b[49m\u001b[43m(\u001b[49m\u001b[43ms\u001b[49m\u001b[43m)\u001b[49m\n\u001b[1;32m    347\u001b[0m \u001b[38;5;28;01mif\u001b[39;00m \u001b[38;5;28mcls\u001b[39m \u001b[38;5;129;01mis\u001b[39;00m \u001b[38;5;28;01mNone\u001b[39;00m:\n\u001b[1;32m    348\u001b[0m     \u001b[38;5;28mcls\u001b[39m \u001b[38;5;241m=\u001b[39m JSONDecoder\n",
      "File \u001b[0;32m/usr/lib/python3.10/json/decoder.py:337\u001b[0m, in \u001b[0;36mJSONDecoder.decode\u001b[0;34m(self, s, _w)\u001b[0m\n\u001b[1;32m    332\u001b[0m \u001b[38;5;28;01mdef\u001b[39;00m \u001b[38;5;21mdecode\u001b[39m(\u001b[38;5;28mself\u001b[39m, s, _w\u001b[38;5;241m=\u001b[39mWHITESPACE\u001b[38;5;241m.\u001b[39mmatch):\n\u001b[1;32m    333\u001b[0m \u001b[38;5;250m    \u001b[39m\u001b[38;5;124;03m\"\"\"Return the Python representation of ``s`` (a ``str`` instance\u001b[39;00m\n\u001b[1;32m    334\u001b[0m \u001b[38;5;124;03m    containing a JSON document).\u001b[39;00m\n\u001b[1;32m    335\u001b[0m \n\u001b[1;32m    336\u001b[0m \u001b[38;5;124;03m    \"\"\"\u001b[39;00m\n\u001b[0;32m--> 337\u001b[0m     obj, end \u001b[38;5;241m=\u001b[39m \u001b[38;5;28;43mself\u001b[39;49m\u001b[38;5;241;43m.\u001b[39;49m\u001b[43mraw_decode\u001b[49m\u001b[43m(\u001b[49m\u001b[43ms\u001b[49m\u001b[43m,\u001b[49m\u001b[43m \u001b[49m\u001b[43midx\u001b[49m\u001b[38;5;241;43m=\u001b[39;49m\u001b[43m_w\u001b[49m\u001b[43m(\u001b[49m\u001b[43ms\u001b[49m\u001b[43m,\u001b[49m\u001b[43m \u001b[49m\u001b[38;5;241;43m0\u001b[39;49m\u001b[43m)\u001b[49m\u001b[38;5;241;43m.\u001b[39;49m\u001b[43mend\u001b[49m\u001b[43m(\u001b[49m\u001b[43m)\u001b[49m\u001b[43m)\u001b[49m\n\u001b[1;32m    338\u001b[0m     end \u001b[38;5;241m=\u001b[39m _w(s, end)\u001b[38;5;241m.\u001b[39mend()\n\u001b[1;32m    339\u001b[0m     \u001b[38;5;28;01mif\u001b[39;00m end \u001b[38;5;241m!=\u001b[39m \u001b[38;5;28mlen\u001b[39m(s):\n",
      "File \u001b[0;32m/usr/lib/python3.10/json/decoder.py:355\u001b[0m, in \u001b[0;36mJSONDecoder.raw_decode\u001b[0;34m(self, s, idx)\u001b[0m\n\u001b[1;32m    353\u001b[0m     obj, end \u001b[38;5;241m=\u001b[39m \u001b[38;5;28mself\u001b[39m\u001b[38;5;241m.\u001b[39mscan_once(s, idx)\n\u001b[1;32m    354\u001b[0m \u001b[38;5;28;01mexcept\u001b[39;00m \u001b[38;5;167;01mStopIteration\u001b[39;00m \u001b[38;5;28;01mas\u001b[39;00m err:\n\u001b[0;32m--> 355\u001b[0m     \u001b[38;5;28;01mraise\u001b[39;00m JSONDecodeError(\u001b[38;5;124m\"\u001b[39m\u001b[38;5;124mExpecting value\u001b[39m\u001b[38;5;124m\"\u001b[39m, s, err\u001b[38;5;241m.\u001b[39mvalue) \u001b[38;5;28;01mfrom\u001b[39;00m \u001b[38;5;28;01mNone\u001b[39;00m\n\u001b[1;32m    356\u001b[0m \u001b[38;5;28;01mreturn\u001b[39;00m obj, end\n",
      "\u001b[0;31mJSONDecodeError\u001b[0m: Expecting value: line 1 column 1 (char 0)"
     ]
    }
   ],
   "source": [
    "candidatos_gemma = get_groq_simplifications(GEMMA, oracion ,palabra)\n",
    "df_filtrado_gemma = obtener_frecuencias_de_sustitutos(candidatos_gemma)\n",
    "print(df_filtrado_gemma)"
   ]
  },
  {
   "cell_type": "code",
   "execution_count": null,
   "metadata": {},
   "outputs": [],
   "source": []
  }
 ],
 "metadata": {
  "kernelspec": {
   "display_name": "Python 3 (ipykernel)",
   "language": "python",
   "name": "python3"
  },
  "language_info": {
   "codemirror_mode": {
    "name": "ipython",
    "version": 3
   },
   "file_extension": ".py",
   "mimetype": "text/x-python",
   "name": "python",
   "nbconvert_exporter": "python",
   "pygments_lexer": "ipython3",
   "version": "3.10.12"
  }
 },
 "nbformat": 4,
 "nbformat_minor": 4
}
